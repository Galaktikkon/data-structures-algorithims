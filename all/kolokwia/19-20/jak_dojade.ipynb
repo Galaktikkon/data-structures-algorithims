{
 "cells": [
  {
   "attachments": {},
   "cell_type": "markdown",
   "metadata": {},
   "source": [
    "Dana jest tablica dwuwymiarowa $G$, przedstawiająca macierz sąsiedztwa skierowanego grafu ważonego, który odpowiada mapie drogowej (wagi przedstawiają odległości, liczba $-1$ oznacza brak\n",
    "krawędzi). W niektórych wierzchołkach są stacje paliw, podana jest ich lista $P$. Pełnego baku wystarczy na przejechanie odległości $d$. Wjeżdżając na stację samochód zawsze jest tankowany do pełna.\n",
    "Proszę zaimplemntować funkcję $jakdojade(G, P, d, a, b)$, która szuka najkrótszej możliwej\n",
    "trasy od wierzchołka $a$ do wierzchołka $b$, jeśli taka istnieje, i zwraca listę kolejnych odwiedzanych\n",
    "na trasie wierzchołków (zakładamy, że w $a$ też jest stacja paliw; samochód może przejechać najwyżej\n",
    "odległość $d$ bez tankowania).\n",
    "Zaproponowana funkcja powinna być możliwe jak najszybsza. Uzasadnij jej poprawność i oszacuj\n",
    "złożoność obliczeniową.\n",
    "\n",
    "Przykład: \n",
    "Dla tablic:\n",
    "\n",
    "G = [[-1, 6,-1, 5, 2], </br>\n",
    "    [-1,-1, 1, 2,-1], </br>\n",
    "    [-1,-1,-1,-1,-1], </br>\n",
    "    [-1,-1, 4,-1,-1], </br>\n",
    "    [-1,-1, 8,-1,-1] </br>\n",
    "    ] </br>\n",
    "\n",
    "P = [0,1,3]\n",
    "\n",
    "funkcja jak dojade(G, P, 5, 0, 2) powinna zwrócić [0,3,2]. Dla tych samych tablic funkcja\n",
    "jak dojade(G, P, 6, 0, 2) powinna zwrócić [0,1,2], natomiast jak dojade(G, P, 3, 0, 2)\n",
    "powinna zwrócić None."
   ]
  },
  {
   "cell_type": "code",
   "execution_count": null,
   "metadata": {},
   "outputs": [],
   "source": []
  }
 ],
 "metadata": {
  "language_info": {
   "name": "python"
  },
  "orig_nbformat": 4
 },
 "nbformat": 4,
 "nbformat_minor": 2
}
