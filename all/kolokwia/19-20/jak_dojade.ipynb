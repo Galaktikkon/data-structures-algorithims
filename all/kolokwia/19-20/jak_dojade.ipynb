{
 "cells": [
  {
   "attachments": {},
   "cell_type": "markdown",
   "metadata": {},
   "source": [
    "Dana jest tablica dwuwymiarowa $G$, przedstawiająca macierz sąsiedztwa skierowanego grafu ważonego, który odpowiada mapie drogowej (wagi przedstawiają odległości, liczba $-1$ oznacza brak\n",
    "krawędzi). W niektórych wierzchołkach są stacje paliw, podana jest ich lista $P$. Pełnego baku wystarczy na przejechanie odległości $d$. Wjeżdżając na stację samochód zawsze jest tankowany do pełna.\n",
    "Proszę zaimplemntować funkcję $jakdojade(G, P, d, a, b)$, która szuka najkrótszej możliwej\n",
    "trasy od wierzchołka $a$ do wierzchołka $b$, jeśli taka istnieje, i zwraca listę kolejnych odwiedzanych\n",
    "na trasie wierzchołków (zakładamy, że w $a$ też jest stacja paliw; samochód może przejechać najwyżej\n",
    "odległość $d$ bez tankowania).\n",
    "Zaproponowana funkcja powinna być możliwe jak najszybsza. Uzasadnij jej poprawność i oszacuj\n",
    "złożoność obliczeniową.\n",
    "\n",
    "Przykład: </br>\n",
    "Dla tablic:\n",
    "\n",
    "$ G= \\begin{matrix} [-1, & 6, & -1, & 5, & 2] \\\\ [-1, & -1, & -1, & 2, & -1] \\\\ [-1, & -1, & -1, & -1, & -1] \\\\ [-1, & -1, & 4, & -1, & -1] \\\\ [-1, & -1, & 8, & -1, & -1] \\end{matrix}$ </br></br>\n",
    "$P = \\begin{matrix} [0, & 1, & 3] \\end{matrix}$\n",
    "\n",
    "Funkcja $jakdojade(G, P, 5, 0, 2)$ powinna zwrócić $[0,3,2]$. Dla tych samych tablic funkcja\n",
    "$jakdojade(G, P, 6, 0, 2)$ powinna zwrócić $[0,1,2]$, natomiast $jakdojade(G, P, 3, 0, 2)$\n",
    "powinna zwrócić $None$."
   ]
  },
  {
   "cell_type": "code",
   "execution_count": 3,
   "metadata": {},
   "outputs": [
    {
     "name": "stdout",
     "output_type": "stream",
     "text": [
      "[0, 3, 2]\n",
      "[0, 1, 2]\n",
      "None\n"
     ]
    }
   ],
   "source": [
    "def relax(parent,d,v,u,weight,fuel):\n",
    "    if d[v]>d[u]+weight:\n",
    "        d[v]=d[u]+weight\n",
    "        parent[v]=u\n",
    "        fuel-=weight\n",
    "        return True\n",
    "    return False\n",
    "\n",
    "def dijkstra_matrix(G,P,s,t,f):\n",
    "    from math import inf\n",
    "    n=len(G)\n",
    "    parent=[None for _ in range(n)]\n",
    "    visited=[False for _ in range(n)]\n",
    "    d=[inf for _ in range(n)]\n",
    "    d[s]=0\n",
    "    fuel=f\n",
    "    gas_stations=[False for _ in range(n)]\n",
    "    for i in P: gas_stations[i]=True\n",
    "    \n",
    "    while True:\n",
    "        u=None\n",
    "        weight=inf\n",
    "        for i in range(n):\n",
    "            if not visited[i] and d[i]<weight:\n",
    "                weight=d[i]\n",
    "                u=i\n",
    "                \n",
    "        if u==None: break\n",
    "        \n",
    "        if gas_stations[u]: fuel=f\n",
    "        \n",
    "        visited[u]=True\n",
    "        for v in range(n):\n",
    "            if not visited[v] and G[u][v]!=-1 and G[u][v]<=fuel:\n",
    "                relax(parent,d,v,u,G[u][v],fuel)\n",
    "        if u==t: break\n",
    "        \n",
    "    return parent, d\n",
    "\n",
    "G1 = [[-1, 6,-1, 5, 2],\n",
    "[-1,-1, 1, 2,-1],\n",
    "[-1,-1,-1,-1,-1],\n",
    "[-1,-1, 4,-1,-1],\n",
    "[-1,-1, 8,-1,-1]]\n",
    "P1 = [0,1,3]\n",
    "\n",
    "def get_shortest_dijkstra(G,P,s,t,f):\n",
    "    parent,d=dijkstra_matrix(G,P,s,t,f)\n",
    "    if parent[t] is None: return None\n",
    "    path=[]\n",
    "    while t!=None:\n",
    "        path.append(t)\n",
    "        t=parent[t]\n",
    "    return path[::-1]\n",
    "      \n",
    "\n",
    "print(get_shortest_dijkstra(G1,P1,0,2,5))\n",
    "print(get_shortest_dijkstra(G1,P1,0,2,6))\n",
    "print(get_shortest_dijkstra(G1,P1,0,2,3))\n"
   ]
  }
 ],
 "metadata": {
  "kernelspec": {
   "display_name": "Python 3",
   "language": "python",
   "name": "python3"
  },
  "language_info": {
   "codemirror_mode": {
    "name": "ipython",
    "version": 3
   },
   "file_extension": ".py",
   "mimetype": "text/x-python",
   "name": "python",
   "nbconvert_exporter": "python",
   "pygments_lexer": "ipython3",
   "version": "3.11.3"
  },
  "orig_nbformat": 4
 },
 "nbformat": 4,
 "nbformat_minor": 2
}
