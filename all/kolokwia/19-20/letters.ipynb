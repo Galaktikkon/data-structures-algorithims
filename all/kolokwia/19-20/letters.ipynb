{
 "cells": [
  {
   "attachments": {},
   "cell_type": "markdown",
   "metadata": {},
   "source": [
    "Dany jest graf nieskierowany $G = (V, E)$, gdzie każdy wierzchołek z $V$ ma przypisaną małą literę z\n",
    "alfabetu łacińskiego, a każda krawędź ma wagę (dodatnią liczbę całkowitą). Dane jest także słowo\n",
    "$W = W [0], . . . , W [n − 1]$ składające się małych liter alfabetu łacińskiego. Należy zaimplementować\n",
    "funkcję $letters(G,W)$, która oblicza długość najkrótszej ścieżki w grafie G, której wierzchołki\n",
    "układają się dokładnie w słowo $W$ (ścieżka ta nie musi być prosta i może powtarzać wierzchołki).\n",
    "Jeśli takiej ścieżki nie ma, należy zwrócić $-1$.\n",
    "\n",
    "Struktury danych. Graf $G$ ma $n$ wierzchołków ponumerowanych od $0$ do $n − 1$ i jest reprezentowany jako para $(L, E)$. $L$ to lista o długości $n$, gdzie $L[i]$ to litera przechowywana w wierzchołku\n",
    "$i$. $E$ jest listą krawędzi i każdy jej element jest trójką postaci $(u, v, w)$, gdzie $u$ i $v$ to wierzchołki\n",
    "połączone krawędzią o wadze $w$."
   ]
  },
  {
   "cell_type": "code",
   "execution_count": 66,
   "metadata": {},
   "outputs": [
    {
     "name": "stdout",
     "output_type": "stream",
     "text": [
      "3\n"
     ]
    }
   ],
   "source": [
    "def create_graph(E):\n",
    "    n=-1\n",
    "    for u,v,w in E:\n",
    "        n=max(n,u,v)\n",
    "    n+=1\n",
    "    G=[[] for _ in range(n)]\n",
    "    for u,v,w in E:\n",
    "        G[u].append((v,w))\n",
    "        G[v].append((u,w))\n",
    "    return G\n",
    "\n",
    "def create_helper(L,W,M):\n",
    "    G=[[] for _ in range(len(W))]\n",
    "    for j in range(len(W)):\n",
    "        for i in range(len(L)):\n",
    "            if W[j]==L[i]:\n",
    "                G[j].append(i)\n",
    "                if j==0:\n",
    "                    M[i][j]=0\n",
    "    return G\n",
    "\n",
    "def create_group(H,n):\n",
    "    L=[0 for _ in range(n)]\n",
    "    for i in range(len(H)):\n",
    "        for j in range(len(H[i])):\n",
    "            L[H[i][j]]=i\n",
    "    return L\n",
    "\n",
    "def letters(G,W):\n",
    "    L,E=G\n",
    "    from math import inf\n",
    "    A=create_graph(E)\n",
    "    n=len(A)\n",
    "    m=len(W)\n",
    "    M=[[inf for _ in range(m)] for _ in range(n)]\n",
    "    H=create_helper(L,W,M)\n",
    "    B=create_group(H,n)\n",
    "    cost=inf\n",
    "    for l in range(m):\n",
    "        for v in H[l]:\n",
    "            for u,c in A[v]:\n",
    "                M[u][B[u]]=min(M[v][B[v]]+c,M[u][B[u]])\n",
    "                if B[u]==len(W)-1:\n",
    "                    cost=min(cost,M[u][B[u]])\n",
    "    \n",
    "    return cost\n",
    "\n",
    "\n",
    "L = [\"k\",\"k\",\"o\",\"o\",\"t\",\"t\"]\n",
    "E = [(0,2,2), (1,2,1), (1,4,3), (1,3,2), (2,4,5), (3,4,1), (3,5,3) ]\n",
    "G = (L,E)\n",
    "W=\"kot\"\n",
    "\n",
    "L2=['d','u','k','d','u','p','a','x','p','u','u']\n",
    "E2=[(0,1,3),(0,2,0),(2,4,0),(2,6,0),(3,4,1),(3,7,10),(3,9,2),(4,5,1),(5,6,1),(5,9,5),(5,10,0),(7,8,0),(8,9,3)]\n",
    "G2=(L2,E2)\n",
    "W2=\"dupa\"\n",
    "\n",
    "\n",
    "print(letters(G2,W2))"
   ]
  }
 ],
 "metadata": {
  "kernelspec": {
   "display_name": "Python 3",
   "language": "python",
   "name": "python3"
  },
  "language_info": {
   "codemirror_mode": {
    "name": "ipython",
    "version": 3
   },
   "file_extension": ".py",
   "mimetype": "text/x-python",
   "name": "python",
   "nbconvert_exporter": "python",
   "pygments_lexer": "ipython3",
   "version": "3.11.3"
  },
  "orig_nbformat": 4
 },
 "nbformat": 4,
 "nbformat_minor": 2
}
