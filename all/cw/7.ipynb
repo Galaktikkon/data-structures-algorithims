{
 "cells": [
  {
   "attachments": {},
   "cell_type": "markdown",
   "metadata": {},
   "source": [
    "2. Najkrótsze ścieżki w DAG\n",
    "<details>\n",
    "<summary>Rozwiązanie:</summary>\n",
    "topoSort, a poźniej dijkstra\n",
    "</details>"
   ]
  },
  {
   "cell_type": "code",
   "execution_count": null,
   "metadata": {},
   "outputs": [],
   "source": [
    "from math import inf\n",
    "\n",
    "def topo_sort(G):\n",
    "    topo_list=[]\n",
    "    return topo_list\n",
    "\n",
    "def relax(parent,d,v,u,c):\n",
    "    if d[v]>d[u]+c:\n",
    "        d[v]=d[u]+c\n",
    "        parent[u]=v\n",
    "        return True\n",
    "    return False\n",
    "\n",
    "def dag(G,s):\n",
    "    V=topo_sort(G)\n",
    "    n=len(G)\n",
    "    d=[inf for _ in range(n)]\n",
    "    parent=[None for _ in range(n)]\n",
    "    for i in V:\n",
    "        for u,w in G[i]:\n",
    "            relax(parent,d,u,w,i)\n",
    "            \n",
    "    return d,parent\n",
    "    "
   ]
  },
  {
   "attachments": {},
   "cell_type": "markdown",
   "metadata": {},
   "source": [
    "3. Wypisywanie ścieżki\n",
    "\n",
    "<details>\n",
    "<summary>Rozwiązanie:</summary>\n",
    "typowy while albo stinky rekurencja\n",
    "</details>"
   ]
  },
  {
   "cell_type": "code",
   "execution_count": null,
   "metadata": {},
   "outputs": [],
   "source": [
    "def print_path(parent,u):\n",
    "    path=[]\n",
    "    while u!=None:\n",
    "        path.append(u)\n",
    "        u=parent[u]\n",
    "    for i in range(len(path)-1,-1):\n",
    "        print(path[i], end=\" \")\n",
    "\n",
    "def print_rec(parent,u):\n",
    "    if u!=None:\n",
    "        print_rec(parent,parent[u])\n",
    "    print(u)"
   ]
  },
  {
   "attachments": {},
   "cell_type": "markdown",
   "metadata": {},
   "source": [
    "4. Najkrótsze ścieżki w grafie, ale ze względu na iloczyn wag, a nie sumę\n",
    "\n",
    "<details>\n",
    "<summary>Rozwiązanie:</summary>\n",
    "a+b+c </br>\n",
    "log(a*b*c) = log(a)+log(b)+log(c) </br>\n",
    "taka konwersja, a pózniej Bellman-Ford </br>\n",
    "</details>\n"
   ]
  },
  {
   "attachments": {},
   "cell_type": "markdown",
   "metadata": {},
   "source": [
    "5. Alice i Bob, jadą przez miasta i zmieniają się za kierownicą po każym mieście. Napisać algorytm, który zwróci najkrótszą ścieżkę, którą może przejechać Alice wkręcając Boba w branie dłuższych odcinków.\n",
    "\n",
    "<details>\n",
    "<summary>Rozwiązanie:</summary>\n",
    "Dijkstra z parametrem \"sygnatura\", tj. </br>\n",
    "Dijkstra(..., \"Alice\" lub \"Bob\") </br>\n",
    "jeśli jedzie Bob, to nie zwiększamy długości ścieżki\n",
    "</details>\n"
   ]
  },
  {
   "attachments": {},
   "cell_type": "markdown",
   "metadata": {},
   "source": [
    "6. Oszukiwanie kantoru walutowego </br>\n",
    "Mamy kantor wymian: </br>\n",
    "1A -> 1,2 B </br>\n",
    "1B -> 0,8C </br>\n",
    "1C -> 5D </br> \n",
    "1D- > 2,5A </br>\n",
    "Szukamy takiego cyklu wyaminy walut, że zarobimy z samych wymian\n",
    "\n",
    "<details>\n",
    "<summary>Rozwiązanie:</summary>\n",
    "macierz: z ile trzeba mieć i-tej waluty na 1 sztukę j-tej waluty, bierzemy logarytm z tej wartości i szukamy ujemnego cyklu Bellmanem Fordem </br>\n",
    "  A B C </br>\n",
    "A 0 log(0,9) 0 </br>\n",
    "B   0 </br>\n",
    "C log(1,2)  itd.. </br>\n",
    "</details>\n",
    "\n"
   ]
  },
  {
   "cell_type": "code",
   "execution_count": null,
   "metadata": {},
   "outputs": [],
   "source": [
    "def relax(parent,d,v,u,c):\n",
    "    if d[v]>d[u]+c:\n",
    "        d[v]=d[u]+c\n",
    "        parent[u]=v\n",
    "        return True\n",
    "    return False\n",
    "\n",
    "def Bellford(G,s):\n",
    "    n=len(G)\n",
    "    d=[inf for _ in range(n)]\n",
    "    d[s]=0\n",
    "    parent=[None for _ in range(n)]\n",
    "    b=False\n",
    "    for i in range(n):\n",
    "        b=False\n",
    "        for j in range(n):\n",
    "            for k in range(n):\n",
    "                if G[j][k]:\n",
    "                    b|=relax(parent,d,j,k,G[j][k])\n",
    "        if i==n-1 and b: return None\n",
    "        if not b: return d,parent"
   ]
  },
  {
   "attachments": {},
   "cell_type": "markdown",
   "metadata": {},
   "source": [
    "7. Znaleźć ścieżkę między dwoma wierzchołkami, o malejących wagach i najkrótsza"
   ]
  }
 ],
 "metadata": {
  "language_info": {
   "name": "python"
  },
  "orig_nbformat": 4
 },
 "nbformat": 4,
 "nbformat_minor": 2
}
