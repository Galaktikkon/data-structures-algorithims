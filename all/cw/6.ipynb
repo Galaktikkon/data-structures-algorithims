{
 "cells": [
  {
   "attachments": {},
   "cell_type": "markdown",
   "metadata": {},
   "source": [
    "1. Ścieżka Hamlitona w DAG\n",
    "<details>\n",
    "<summary>Rozwiązanie:</summary>\n",
    "Sortujemy topologicznie i poźniej sprawdzanie czy istnieją kolejne krawędzie ścieżki\n",
    "</detalis>"
   ]
  },
  {
   "cell_type": "code",
   "execution_count": null,
   "metadata": {},
   "outputs": [],
   "source": [
    "def hamiltonPath(G):\n",
    "    n=len(G)\n",
    "    visited=[False for _ in range(n)]\n",
    "    T=[]\n",
    "    def DFSVisit(G,v,visited,T):\n",
    "        visited[v]=True\n",
    "        for i in G[v]:\n",
    "            if not visited[i]:\n",
    "                DFSVisit(G,i,visited,T)\n",
    "        T.append(v)\n",
    "    T.reverse()  \n",
    "    for i in range(n):\n",
    "        if not visited[i]:\n",
    "            DFSVisit(G,i,visited,T)\n",
    "            \n",
    "    for i in range(n-1):\n",
    "        u=T[i]\n",
    "        v=T[i+1]\n",
    "        if not v in G[u]: return False\n",
    "        \n",
    "    return True"
   ]
  },
  {
   "attachments": {},
   "cell_type": "markdown",
   "metadata": {},
   "source": [
    "2. Dobry początek\n",
    "Czy w danym grafie istnieje wierzchołek, z którego istnieje ścieżka do każdego innego wierzchołka\n",
    "<details>\n",
    "<summary>Rozwiązanie:</summary>\n",
    "1. Tworzymy graf spójnych składowych, odwracamy krawędzie i sortujemy go topologicznie\n",
    "2. Dwa DFSy\n",
    "</detalis>\n"
   ]
  },
  {
   "cell_type": "code",
   "execution_count": null,
   "metadata": {},
   "outputs": [],
   "source": [
    "def DFS(G,v,visited,index):\n",
    "    visited[v]=index\n",
    "    for i in G[v]:\n",
    "        if not visited[i]:\n",
    "            DFS(G,i,visited,index)\n",
    "\n",
    "def goodBeg(G):\n",
    "    n=len(G)\n",
    "    visited=[0 for _ in range(n)]\n",
    "    index=1\n",
    "    last=-1\n",
    "    for i in range(n):\n",
    "        if not visited[i]:\n",
    "            DFS(G,i,visited,index)\n",
    "            last=i\n",
    "    for i in range(n):\n",
    "        visited[i]=False\n",
    "    DFS(last,G,visited,True)\n",
    "    flag=True\n",
    "    for i in range(n):\n",
    "        if visited[i]==0: return False\n",
    "    return True"
   ]
  },
  {
   "attachments": {},
   "cell_type": "markdown",
   "metadata": {},
   "source": [
    "3. Problem przewodnika turystycznego\n",
    "Graf ważony"
   ]
  },
  {
   "attachments": {},
   "cell_type": "markdown",
   "metadata": {},
   "source": [
    "4. Miasta i oazy\n",
    "Miasto ma dwie bramy, wchodzi sie jedna wychodzi druga, przez oaze mozna przechodzic jak sie chce.\n",
    "Goniec dostarcza wiadomosc, zaczyna z jednego miasta. wyznaczyc sciezke przez wszystkie miasta.\n",
    "-oazy zmergowac, miasta zamienic na krawedzie i euler, bo miasto jest krawedzia, pomiedzy krawedz miedzy dwoma miastami wsadzamy wierzcholek"
   ]
  }
 ],
 "metadata": {
  "language_info": {
   "name": "python"
  },
  "orig_nbformat": 4
 },
 "nbformat": 4,
 "nbformat_minor": 2
}
