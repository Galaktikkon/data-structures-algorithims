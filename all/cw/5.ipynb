{
 "cells": [
  {
   "attachments": {},
   "cell_type": "markdown",
   "metadata": {},
   "source": [
    "1. Zaproponuj algorytm, który sprawdzi czy dany graf jest dwudzielny.\n",
    "\n",
    "<details>\n",
    "<summary>Rozwiązanie:</summary>\n",
    "Uruchamiamy BFS i kolorujemy graf, sprawdzając czy sąsiedzi rozważanego wierzchołka nie są już tego samego koloru, jeśli tak, to kończymy i zwracamy wynik negwtywny, jeśli uda się pokolorować wszystkie wierzcholki, to oznacza, że mamy dwa rozłączne zbiory = graf jest dwudzielny.</details>"
   ]
  },
  {
   "cell_type": "code",
   "execution_count": 1,
   "metadata": {},
   "outputs": [
    {
     "name": "stdout",
     "output_type": "stream",
     "text": [
      "False\n",
      "False\n"
     ]
    }
   ],
   "source": [
    "from collections import deque\n",
    "\n",
    "def bipartity(G):\n",
    "    Q=deque()\n",
    "    n=len(G)\n",
    "    visited=[False for _ in range(n)]\n",
    "    color=['' for _ in range(n)]\n",
    "    for i in range(n):\n",
    "        if not visited[i]:\n",
    "            color[i]='red'\n",
    "            Q.append(i)\n",
    "            while Q:\n",
    "                u=Q.popleft()\n",
    "                for v in G[u]:\n",
    "                    if color[u]==color[v]:\n",
    "                        return False\n",
    "                    if not visited[v]:\n",
    "                        visited[v]=True\n",
    "                        if color[u]=='red':\n",
    "                            color[v]='blue'\n",
    "                        else:\n",
    "                            color[v]='red'\n",
    "                        Q.append(v)\n",
    "    return True\n",
    "\n",
    "G1=[[5,7],[5],[6],[4,7],[3],[0,1],[6],[0,3]]\n",
    "\n",
    "print(bipartity(G1))\n",
    "\n",
    "G2=[[1,4],[0,2],[1,3],[2,4],[3,0]]\n",
    "\n",
    "print(bipartity(G2))\n",
    "    "
   ]
  },
  {
   "cell_type": "markdown",
   "metadata": {},
   "source": []
  }
 ],
 "metadata": {
  "kernelspec": {
   "display_name": "Python 3",
   "language": "python",
   "name": "python3"
  },
  "language_info": {
   "codemirror_mode": {
    "name": "ipython",
    "version": 3
   },
   "file_extension": ".py",
   "mimetype": "text/x-python",
   "name": "python",
   "nbconvert_exporter": "python",
   "pygments_lexer": "ipython3",
   "version": "3.11.3"
  },
  "orig_nbformat": 4
 },
 "nbformat": 4,
 "nbformat_minor": 2
}
