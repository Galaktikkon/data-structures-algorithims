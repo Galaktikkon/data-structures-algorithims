{
 "cells": [
  {
   "attachments": {},
   "cell_type": "markdown",
   "metadata": {},
   "source": [
    "1. Implementacja: domknięcie przechodnie grafu\n",
    "<details>\n",
    "<summary>Rozwiązanie:</summary>\n",
    "Floyd Warshall\n",
    "</detalis>"
   ]
  },
  {
   "cell_type": "code",
   "execution_count": null,
   "metadata": {},
   "outputs": [],
   "source": [
    "def closure(G):\n",
    "    n=len(G)\n",
    "    for t in range(n):\n",
    "        for x in range(n):\n",
    "            for y in range(n):\n",
    "                G[x][y]|=G[x][t] & G[t][y]\n",
    "    return G"
   ]
  },
  {
   "attachments": {},
   "cell_type": "markdown",
   "metadata": {},
   "source": [
    "2. Obliczyć wagę cyklu o minimalnej wadze\n",
    "<details>\n",
    "<summary>Rozwiązanie:</summary>\n",
    "Odpalamy Floyda-Warshalla z inf na wierzchołkach, wtedy kontrolujemy długości cykli\n",
    "</detalis>"
   ]
  },
  {
   "attachments": {},
   "cell_type": "markdown",
   "metadata": {},
   "source": [
    "4. Budowanie autostrad, chcemy je zbudować w najkrótszym odstępie czasowym\n",
    "<details>\n",
    "<summary>Rozwiązanie:</summary>\n",
    "sortowanie po dlugosci, a pozniej podejscie dwoma wskaznikami\n",
    "</detalis>"
   ]
  },
  {
   "attachments": {},
   "cell_type": "markdown",
   "metadata": {},
   "source": [
    "4. Przewodnik turystyczny bez DFS/BFS\n",
    "<details>\n",
    "<summary>Rozwiązanie:</summary>\n",
    "'maksymalne drzewo rozpinajace', jesli s i t będą w tym samym zbiorze to zwracamy dlugosc sciezki\n",
    "</detalis>"
   ]
  },
  {
   "attachments": {},
   "cell_type": "markdown",
   "metadata": {},
   "source": [
    "6. Transport atomowy, dwa transporty, nie mogą być naraz zbyt blisko siebie"
   ]
  }
 ],
 "metadata": {
  "language_info": {
   "name": "python"
  },
  "orig_nbformat": 4
 },
 "nbformat": 4,
 "nbformat_minor": 2
}
