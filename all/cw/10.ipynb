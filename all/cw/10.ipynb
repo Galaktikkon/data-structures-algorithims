{
 "cells": [
  {
   "attachments": {},
   "cell_type": "markdown",
   "metadata": {},
   "source": [
    "1. Czy istnieje podciąg (niekoniecznie spójny) o zadanej sumie.\n",
    "\n",
    "    - $f(i,v)=\\begin{cases} \\text{True,} & f(i+1,v) \\vee f(i+1,v-A[i]) \\\\ \\text{False, } & \\text{wpp} \\end{cases}$\n",
    "    - $f(i,0)=True$\n",
    "    - $f(i,v)=False$, jeśli $v<0$"
   ]
  },
  {
   "cell_type": "code",
   "execution_count": null,
   "metadata": {},
   "outputs": [],
   "source": [
    "def f(A,m):\n",
    "    n=len(A)\n",
    "    F=[[0 for _ in range(m+1)] for _ in range(n+1)]\n",
    "    for i in range(n+1):\n",
    "        F[i][0]=True\n",
    "    for i in range(1,n+1):\n",
    "        for j in range(m,-1+A[i-1]):\n",
    "            if F[i-1][j-A[i-1]]:\n",
    "                F[i][j]=True\n",
    "    return F[n][m]"
   ]
  },
  {
   "attachments": {},
   "cell_type": "markdown",
   "metadata": {},
   "source": [
    "2. Najdłuższy wspólny podciag dla dwóch tablic A,B.\n",
    "\n",
    "    - $f(i,j)-$ najdłuższy podciąg przy założeniu, że:\n",
    "        - $i$ elementów z $A$\n",
    "        - $j$ elementów z $B$\n",
    "    - $f(i,v)=max\\begin{cases}  f(i-1,j) \\\\ f(i,j-1) \\\\ f(i-1,j-1) \\end{cases}$\n",
    "    - $f(-1,j)=0$\n",
    "    - $f(i,-1)=0$\n"
   ]
  },
  {
   "attachments": {},
   "cell_type": "markdown",
   "metadata": {},
   "source": [
    "3. Problem mnożenia macierzy"
   ]
  },
  {
   "attachments": {},
   "cell_type": "markdown",
   "metadata": {},
   "source": [
    "4. Szachownica z liczbami wymiernymi, chcemy przejść z lewego górnego rogu do prawego dolnego. można iść tylko w prawo lub w dół"
   ]
  }
 ],
 "metadata": {
  "language_info": {
   "name": "python"
  },
  "orig_nbformat": 4
 },
 "nbformat": 4,
 "nbformat_minor": 2
}
