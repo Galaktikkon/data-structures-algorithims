{
 "cells": [
  {
   "attachments": {},
   "cell_type": "markdown",
   "metadata": {},
   "source": [
    "1. Czy istnieje podciąg (niekoniecznie spójny) o zadanej sumie.\n",
    "\n",
    "    - $f(i,v)=\\begin{cases} \\text{True,} & f(i+1,v) \\vee f(i+1,v-A[i]) \\\\ \\text{False, } & \\text{wpp} \\end{cases}$\n",
    "    - $f(i,0)=True$\n",
    "    - $f(i,v)=False$, jeśli $v<0$"
   ]
  },
  {
   "cell_type": "code",
   "execution_count": null,
   "metadata": {},
   "outputs": [],
   "source": [
    "def f(A,m):\n",
    "    n=len(A)\n",
    "    F=[[0 for _ in range(m+1)] for _ in range(n+1)]\n",
    "    for i in range(n+1):\n",
    "        F[i][0]=True\n",
    "    for i in range(1,n+1):\n",
    "        for j in range(m,-1+A[i-1]):\n",
    "            if F[i-1][j-A[i-1]]:\n",
    "                F[i][j]=True\n",
    "    return F[n][m]"
   ]
  },
  {
   "attachments": {},
   "cell_type": "markdown",
   "metadata": {},
   "source": [
    "2. Najdłuższy wspólny podciag dla dwóch tablic A,B.\n",
    "\n",
    "    - $f(i,j)-$ najdłuższy podciąg przy założeniu, że:\n",
    "        - $i$ elementów z $A$\n",
    "        - $j$ elementów z $B$\n",
    "    - $f(i,j)=max\\begin{cases}  f(i-1,j) \\\\ f(i,j-1) \\\\ f(i-1,j-1), \\text{jeśli } A[i-1]=B[j-1] \\end{cases}$\n",
    "    - $f(-1,j)=0$\n",
    "    - $f(i,-1)=0$\n"
   ]
  },
  {
   "cell_type": "code",
   "execution_count": 3,
   "metadata": {},
   "outputs": [
    {
     "data": {
      "text/plain": [
       "5"
      ]
     },
     "execution_count": 3,
     "metadata": {},
     "output_type": "execute_result"
    }
   ],
   "source": [
    "def longest_common_subsequence(A, B):\n",
    "    m = len(A)\n",
    "    n = len(B)\n",
    "    F = [[0 for _ in range(n+1)] for _ in range(m+1)]\n",
    "\n",
    "    for i in range(1, m+1):\n",
    "        for j in range(1, n+1):\n",
    "            if A[i-1] == B[j-1]:\n",
    "                F[i][j] = max(F[i][j], F[i-1][j-1]+1)\n",
    "            F[i][j] = max(F[i][j], F[i-1][j], F[i][j-1])\n",
    "\n",
    "    return F[m][n]\n",
    "\n",
    "\n",
    "A = [1, 3, 5, 2, 6, 4, 8]\n",
    "B = [8, 9, 3, 6, 5, 2, 7, 6, 8]\n",
    "\n",
    "longest_common_subsequence(A, B)"
   ]
  },
  {
   "attachments": {},
   "cell_type": "markdown",
   "metadata": {},
   "source": [
    "3. Problem mnożenia macierzy"
   ]
  },
  {
   "attachments": {},
   "cell_type": "markdown",
   "metadata": {},
   "source": [
    "4. Szachownica z liczbami wymiernymi, chcemy przejść z lewego górnego rogu do prawego dolnego. można iść tylko w prawo lub w dół"
   ]
  },
  {
   "cell_type": "markdown",
   "metadata": {},
   "source": [
    "5. Dany jest ciąg od $A_0$ do $A_{n-1}$. Chcemy go podzielić na dokladnie $k$ podciągów spójnych oraz żeby największa suma elementow w każdym podciągu spójnym była możliwie najmniejsza.\n",
    "\n",
    "$A$ - ciag wejsciowy\n",
    "\n",
    "$f(i, j, m)$ - najwieksza suma fragmentu w optymalnym (zgodnym z warunkami zadania) podziale ciagu $A$ od indeksu $i$ do indeksu $j$ na $m$ fragmentow."
   ]
  },
  {
   "cell_type": "code",
   "execution_count": null,
   "metadata": {},
   "outputs": [],
   "source": [
    "def k_substrings(A,k):\n",
    "    pass"
   ]
  }
 ],
 "metadata": {
  "kernelspec": {
   "display_name": "Python 3",
   "language": "python",
   "name": "python3"
  },
  "language_info": {
   "codemirror_mode": {
    "name": "ipython",
    "version": 3
   },
   "file_extension": ".py",
   "mimetype": "text/x-python",
   "name": "python",
   "nbconvert_exporter": "python",
   "pygments_lexer": "ipython3",
   "version": "3.11.5"
  },
  "orig_nbformat": 4
 },
 "nbformat": 4,
 "nbformat_minor": 2
}
