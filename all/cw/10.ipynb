{
 "cells": [
  {
   "attachments": {},
   "cell_type": "markdown",
   "metadata": {},
   "source": [
    "1. Czy istnieje podciąg (niekoniecznie spójny) o zadanej sumie.\n",
    "\n",
    "    - $f(i,v)=\\begin{cases} \\text{True,} & f(i+1,v) \\vee f(i+1,v-A[i]) \\\\ \\text{False, } & \\text{wpp} \\end{cases}$\n",
    "    - $f(i,0)=True$\n",
    "    - $f(i,v)=False$, jeśli $v<0$"
   ]
  },
  {
   "cell_type": "code",
   "execution_count": null,
   "metadata": {},
   "outputs": [],
   "source": [
    "def f(A,m):\n",
    "    n=len(A)\n",
    "    F=[[0 for _ in range(m+1)] for _ in range(n+1)]\n",
    "    for i in range(n+1):\n",
    "        F[i][0]=True\n",
    "    for i in range(1,n+1):\n",
    "        for j in range(m,-1+A[i-1]):\n",
    "            if F[i-1][j-A[i-1]]:\n",
    "                F[i][j]=True\n",
    "    return F[n][m]"
   ]
  },
  {
   "attachments": {},
   "cell_type": "markdown",
   "metadata": {},
   "source": [
    "2. Najdłuższy wspólny podciag dla dwóch tablic A,B.\n",
    "\n",
    "    - $f(i,j)-$ najdłuższy podciąg przy założeniu, że:\n",
    "        - $i$ elementów z $A$\n",
    "        - $j$ elementów z $B$\n",
    "    - $f(i,j)=max\\begin{cases}  f(i-1,j) \\\\ f(i,j-1) \\\\ f(i-1,j-1)+1, \\text{jeśli } A[i-1]=B[j-1] \\end{cases}$\n"
   ]
  },
  {
   "cell_type": "code",
   "execution_count": 30,
   "metadata": {},
   "outputs": [
    {
     "data": {
      "text/plain": [
       "5"
      ]
     },
     "execution_count": 30,
     "metadata": {},
     "output_type": "execute_result"
    }
   ],
   "source": [
    "def longest_common_subsequence(A, B):\n",
    "    m = len(A)\n",
    "    n = len(B)\n",
    "    F = [[0 for _ in range(n+1)] for _ in range(m+1)]\n",
    "\n",
    "    for i in range(1, m+1):\n",
    "        for j in range(1, n+1):\n",
    "            if A[i-1] == B[j-1]:\n",
    "                F[i][j] = max(F[i][j], F[i-1][j-1]+1)\n",
    "            F[i][j] = max(F[i][j], F[i-1][j], F[i][j-1])\n",
    "\n",
    "    return F[m][n]\n",
    "\n",
    "\n",
    "A = [1, 3, 5, 2, 6, 4, 8]\n",
    "B = [8, 9, 3, 6, 5, 2, 7, 6, 8]\n",
    "\n",
    "longest_common_subsequence(A, B)"
   ]
  },
  {
   "attachments": {},
   "cell_type": "markdown",
   "metadata": {},
   "source": [
    "3. Problem mnożenia macierzy"
   ]
  },
  {
   "attachments": {},
   "cell_type": "markdown",
   "metadata": {},
   "source": [
    "4. Szachownica z liczbami wymiernymi, chcemy przejść z lewego górnego rogu do prawego dolnego. można iść tylko w prawo lub w dół"
   ]
  },
  {
   "cell_type": "markdown",
   "metadata": {},
   "source": [
    "5. Dany jest ciąg od $A_0$ do $A_{n-1}$. Chcemy go podzielić na dokladnie $k$ podciągów spójnych oraz żeby największa suma elementow w każdym podciągu spójnym była możliwie najmniejsza.\n",
    "\n",
    "\n",
    "Rozwiązanie:\n",
    " - $A$ - ciag wejsciowy\n",
    "\n",
    " - zdefinujmy funkcję rekurencyjną w następujący sposób:\n",
    "    - $f(i, j, m)$ - największa suma fragmentu w optymalnym (zgodnym z warunkami zadania) podziale ciagu $A$ od indeksu $i$ do indeksu $j$ na $m$ fragmentow.\n",
    "    - zaczynając od warunków brzegowych, łatwo można zauważyć, że dzieląc jakikolwiek ciągły przedział na $1$ część po prostu zwracamy jego sumę:\n",
    "      - $\\underset{m=1}{f(i,j,1) = \\sum_{k=i}^{j} T[k] }$\n",
    "    - jeśli $m$ byłoby mniejsze od $1$, to takiego podziału nie da się otrzymać (możemy zwrócić nieskończoność, aby nigdy nie był to optymalny wybór):\n",
    "      - $\\underset{m<1}{f(i,j,m) = \\infty}$\n",
    "    - w przypadku kiedy indeksy wskazują na to samo miejsce, to najmiejsza spośród największych (jedyna) suma, to po prostu ten element ciągu:\n",
    "      - $\\underset{i=j}{f(i,j,m) = A[i]}$\n",
    "    - gdy $i>j$ - taki podciąg nie istnieje, to: (robimy to samo, co w przypadku niemożnośći podziału na mniej niż jeden podciąg)\n",
    "      - $\\underset{i>j}{f(i,j,m) = \\infty}$\n",
    "    - w ogólnym przypadku, możemy sobie to wyobrazić jako próbę wstawiania ścian między ciąg, czyli:\n",
    "      - liczymy maksimum z: tego co otrzymamy dzieląc ciąg od $i$ do $p$ na $1$ część oraz z tego, co można uzyskać dzieląc ciąg od miejsca $p+1$ do $j$ na $m-1$ części. Daje nam to wszystkie możliwe wstawiena $m$ ścian między ciąg. Po całości liczymy minimum, bo chcemy zminimalizować wynik. W zapisie rekurencyjnym wygląda to następująco:\n",
    "      - $f(i,j,m)=\\text{min\\{ } \\underset{i \\leq p < j}{\\text{max\\{f(i,p,1),f(p+1,j,m-1)\\}}}\\}$\n",
    "    - naszym rozwiązaniem jest $f(0,n-1,k)$"
   ]
  },
  {
   "cell_type": "code",
   "execution_count": 36,
   "metadata": {},
   "outputs": [
    {
     "data": {
      "text/plain": [
       "105"
      ]
     },
     "execution_count": 36,
     "metadata": {},
     "output_type": "execute_result"
    }
   ],
   "source": [
    "def k_substrings(A, k):\n",
    "    from math import inf\n",
    "\n",
    "    if k == 1:\n",
    "        return sum(A)\n",
    "\n",
    "    n = len(A)\n",
    "    F = [[[inf for _ in range(k+1)] for _ in range(n)] for _ in range(n)]\n",
    "\n",
    "    P = [A[0]]\n",
    "    for i in range(1, n):\n",
    "        P.append(P[i-1]+A[i])\n",
    "\n",
    "    for i in range(n):\n",
    "        for j in range(n):\n",
    "            if i <= j:\n",
    "                F[i][j][1] = P[j]-P[i]+A[i]\n",
    "\n",
    "    def f(F, A, i, j, k):\n",
    "\n",
    "        if i > j:\n",
    "            F[i][j][k] = inf\n",
    "            return F[i][j][k]\n",
    "\n",
    "        if k <= 0:\n",
    "            F[i][j][k] = inf\n",
    "            return F[i][j][k]\n",
    "\n",
    "        if i == j:\n",
    "            F[i][j][k] = A[i]\n",
    "            return F[i][j][k]\n",
    "\n",
    "        if F[i][j][k] != inf:\n",
    "            return F[i][j][k]\n",
    "\n",
    "        else:\n",
    "            res = inf\n",
    "            for p in range(i, j):\n",
    "                res = min(res, max(f(F, A, i, p, 1), f(F, A, p+1, j, k-1)))\n",
    "\n",
    "            F[i][j][k] = res\n",
    "            return F[i][j][k]\n",
    "\n",
    "    f(F, A, 0, n-1, k)\n",
    "\n",
    "    return F[0][n-1][k]\n",
    "\n",
    "\n",
    "A = [0, 40, 20, 50, -10, 40, 60, 10, 15, 20, 60]\n",
    "\n",
    "k_substrings(A, 3)"
   ]
  }
 ],
 "metadata": {
  "kernelspec": {
   "display_name": "Python 3",
   "language": "python",
   "name": "python3"
  },
  "language_info": {
   "codemirror_mode": {
    "name": "ipython",
    "version": 3
   },
   "file_extension": ".py",
   "mimetype": "text/x-python",
   "name": "python",
   "nbconvert_exporter": "python",
   "pygments_lexer": "ipython3",
   "version": "3.11.5"
  },
  "orig_nbformat": 4
 },
 "nbformat": 4,
 "nbformat_minor": 2
}
