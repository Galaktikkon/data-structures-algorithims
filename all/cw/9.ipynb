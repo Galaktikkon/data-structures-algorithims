{
 "cells": [
  {
   "attachments": {},
   "cell_type": "markdown",
   "metadata": {},
   "source": [
    "1. Ford-Fulkerson\n",
    "<details>\n",
    "<summary>Rozwiązanie:</summary>\n",
    "W pętli szukamy ścieżki, ze źródła do ujścia. Jeżeli istnieje, to zwiększamy przepływ o minimalną wagę na tej ścieżce.\n",
    "</detalis>\n"
   ]
  },
  {
   "cell_type": "code",
   "execution_count": null,
   "metadata": {},
   "outputs": [],
   "source": [
    "def BFS(G,a,b):\n",
    "    path=[]\n",
    "    return path\n",
    "\n",
    "def cap(G,path):\n",
    "    s=G[path[0]][path[1]]\n",
    "    for i in range(1,len(path)-1):\n",
    "        s=min(s,G[path[i]][path[i+1]])\n",
    "    return s\n",
    "\n",
    "def update(G,path):\n",
    "    w=cap(G,path)\n",
    "    for i in range(len(path)-1):\n",
    "        G[path[i]][path[i+1]]-=w\n",
    "        G[path[i+1]][path[i]]+=w\n",
    "\n",
    "def FordFulkerson(G,s,t):\n",
    "    from copy import deepcopy\n",
    "    flow=0\n",
    "    F=deepcopy(G)\n",
    "    path=BFS(F,s,t)\n",
    "    while path:\n",
    "        flow+=cap(F,path)\n",
    "        update(F,path)\n",
    "        path=BFS(F,s,t)\n",
    "    return flow"
   ]
  },
  {
   "attachments": {},
   "cell_type": "markdown",
   "metadata": {},
   "source": [
    "2. Maksymalny przepływ w grafie nieskierowanym\n",
    "<details>\n",
    "<summary>Rozwiązanie:</summary>\n",
    "FF działa tak samo\n",
    "</detalis>"
   ]
  },
  {
   "attachments": {},
   "cell_type": "markdown",
   "metadata": {},
   "source": [
    "3. Wiele źródeł i ujść\n",
    "<details>\n",
    "<summary>Rozwiązanie:</summary>\n",
    "Dodanie dwu wierzchołków, nowych s,t. Wierzchołek s ma skierowania na źródła, a t na ujścia. Na koniec FF.\n",
    "</detalis>"
   ]
  },
  {
   "cell_type": "code",
   "execution_count": null,
   "metadata": {},
   "outputs": [],
   "source": [
    "def multiFF(G,sources,sinks):\n",
    "    from copy import deepcopy\n",
    "    F=deepcopy(G)\n",
    "    n=len(G)\n",
    "    F.append([0 for _ in range(n+2)])\n",
    "    F.append([0 for _ in range(n+2)])\n",
    "    for i in range(n):\n",
    "        F[i].extend([0,0])\n",
    "    for u,w in sources:\n",
    "        F[n][u]=w\n",
    "    for u,w in sinks:\n",
    "        F[u][n+1]=w\n",
    "    return FordFulkerson(F,n,n+1)"
   ]
  },
  {
   "attachments": {},
   "cell_type": "markdown",
   "metadata": {},
   "source": [
    "4. Spójność krawędziowa\n",
    "<details>\n",
    "<summary>Rozwiązanie:</summary>\n",
    "Wybieramy jedno źródło i sprawdzamy maksymalny przepływ do T, dla każdego z pozostałych wierzchołkow, bierzemy z nich minimum\n",
    "</detalis>"
   ]
  },
  {
   "attachments": {},
   "cell_type": "markdown",
   "metadata": {},
   "source": [
    "5. Największe skojarzenie\n",
    "<details>\n",
    "<summary>Rozwiązanie:</summary>\n",
    "Dodanie wierzchołków i ustawienie wag na 1. FF\n",
    "</detalis>"
   ]
  },
  {
   "attachments": {},
   "cell_type": "markdown",
   "metadata": {},
   "source": [
    "6. Największe skojarzenie w drzewie\n",
    "<details>\n",
    "<summary>Rozwiązanie:</summary>\n",
    "Wybrać korzeń i podzielić poziomami na graf dwudzielny. FF\n",
    "</detalis>"
   ]
  },
  {
   "attachments": {},
   "cell_type": "markdown",
   "metadata": {},
   "source": [
    "7. Ścieżki wierzchołkowo-rozłączne\n",
    "<details>\n",
    "<summary>Rozwiązanie:</summary>\n",
    "zdublowanie wierzchołków i połączenie wejść do jednego, a wyjść do drugiego. Z wejścia wychodzi krawędź o wadzie 1, a w drugą stronie 0. FF ze zliczaniem ścieżek\n",
    "</detalis>"
   ]
  },
  {
   "attachments": {},
   "cell_type": "markdown",
   "metadata": {},
   "source": [
    "8. Formuły logiczne\n",
    "\n",
    "<details>\n",
    "<summary>Rozwiązanie nr 1:</summary>\n",
    "Graf dwudzielny między zmiennymi, a podformułami gdzie występują(maxtermy). Skojarzenie\n",
    "</detalis>\n",
    "\n",
    "\n",
    "<details>\n",
    "<summary>Rozwiązanie nr 2:</summary>\n",
    "klauzule to wierzchołki, istnieje krawędź pomiędzy klauzulami jeśli są w nich te same zmienne\n",
    "</detalis>"
   ]
  }
 ],
 "metadata": {
  "language_info": {
   "name": "python"
  },
  "orig_nbformat": 4
 },
 "nbformat": 4,
 "nbformat_minor": 2
}
