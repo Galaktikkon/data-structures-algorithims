{
 "cells": [
  {
   "cell_type": "code",
   "execution_count": null,
   "metadata": {},
   "outputs": [],
   "source": [
    "# pojemniki z woda, wiemy ile wody jest wlanej, ile jest zalanych?\n",
    "# b) bisekcja\n",
    "\n",
    "def sumWater(arr,level):\n",
    "    waterSum=0\n",
    "    for i,j in arr:\n",
    "        if i[1]<=level:\n",
    "            waterSum+=(abs(i[1]-j[1])*abs(i[0]-j[0]))\n",
    "    return waterSum\n",
    "\n",
    "\n",
    "def bisectSolution(arr,water):\n",
    "    \n",
    "    ma=-float('inf')\n",
    "    for i,j in arr:\n",
    "        ma=max(ma,i[1])\n",
    "        \n",
    "    left=0\n",
    "    right=ma\n",
    "    mid=(left+right)//2\n",
    "    tanks=0\n",
    "    \n",
    "    while left<=right:\n",
    "        \n",
    "        if water>sumWater(arr,mid) and water>sumWater(arr,mid-1):\n",
    "            left=mid+1\n",
    "            \n",
    "        elif water<sumWater(arr,mid) and water<sumWater(arr,mid+1):\n",
    "            right=mid-1\n",
    "            \n",
    "        elif water>=sumWater(arr,mid) and water<sumWater(arr,mid+1):\n",
    "            break\n",
    "        \n",
    "        mid=(left+right)//2\n",
    "    \n",
    "    for i,j in arr:\n",
    "        if mid>=i[1]:\n",
    "            tanks+=1\n",
    "            \n",
    "    return tanks\n",
    "        \n",
    "arr=[((4,6),(6,2)),((8,8),(20,4)),((14,16),(16,14)),((16,12),(20,10)),((22,16),(24,16)),((4,16),(10,10))] \n",
    "# arr=[((0,1),(1,0))]\n",
    "\n",
    "print(bisectSolution(arr,76))"
   ]
  }
 ],
 "metadata": {
  "kernelspec": {
   "display_name": "Python 3",
   "language": "python",
   "name": "python3"
  },
  "language_info": {
   "codemirror_mode": {
    "name": "ipython",
    "version": 3
   },
   "file_extension": ".py",
   "mimetype": "text/x-python",
   "name": "python",
   "nbconvert_exporter": "python",
   "pygments_lexer": "ipython3",
   "version": "3.11.2"
  },
  "orig_nbformat": 4
 },
 "nbformat": 4,
 "nbformat_minor": 2
}
