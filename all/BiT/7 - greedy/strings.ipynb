{
 "cells": [
  {
   "attachments": {},
   "cell_type": "markdown",
   "metadata": {},
   "source": [
    "Dany jest string, w którym niektóre litery się powtarzają. \n",
    "Należy zaproponować algorytm, który usunie ze stringa duplikaty tak, że otrzymany string będzie leksykograficznie najmniejszy.​\n",
    "\n",
    "Przykład: $\\text{cbacdcbc}$, odpowiedzią jest $\\text{acdb}$.​\n",
    "\n",
    "Wskazówka:​\n",
    "\n",
    "$ord(“a”) = 97;$ </br>\n",
    "$ord(“b”) = 98;$ </br>\n",
    "$...;$ </br>\n",
    "$ord(“z”) = 122$"
   ]
  },
  {
   "cell_type": "code",
   "execution_count": null,
   "metadata": {},
   "outputs": [],
   "source": []
  }
 ],
 "metadata": {
  "language_info": {
   "name": "python"
  },
  "orig_nbformat": 4
 },
 "nbformat": 4,
 "nbformat_minor": 2
}
