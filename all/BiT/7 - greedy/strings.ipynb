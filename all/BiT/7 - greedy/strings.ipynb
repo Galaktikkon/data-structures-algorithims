{
 "cells": [
  {
   "attachments": {},
   "cell_type": "markdown",
   "metadata": {},
   "source": [
    "Dany jest string, w którym niektóre litery się powtarzają. \n",
    "Należy zaproponować algorytm, który usunie ze stringa duplikaty tak, że otrzymany string będzie leksykograficznie najmniejszy.​\n",
    "\n",
    "Przykład: $\\text{cbacdcbc}$, odpowiedzią jest $\\text{acdb}$.​\n",
    "\n",
    "Wskazówka:​\n",
    "\n",
    "$ord(“a”) = 97;$ </br>\n",
    "$ord(“b”) = 98;$ </br>\n",
    "$...;$ </br>\n",
    "$ord(“z”) = 122$\n",
    "\n",
    "Rozwiązanie:\n",
    " - mamy tablicę $C$ o rozmiarze $26$, w której zapisujemy ilość wystąpień danej litery w stringu\n",
    " - dodatkowo mamy tablicę $V$, też o rozmiarze $26$, która mówi czy dana litera jest użyta w rozważanym słowie\n",
    " - iniciujemy stos, na którym będzie przechowywane nasze słowo\n",
    "    - warunkiem ściągnięcia (ostatniej) litery ze stosu jest:\n",
    "        - to, że gdzieś może jeszcze występować później tzn. $C[letter]>1$\n",
    "        - ostatnia litera musi być leksykograficznie większa lub równa tej, którą chcemy włożyć\n",
    "    -  warunkiem włożenia na stos jest:\n",
    "        - ta litera nie występuje nigdzie indziej wcześniej tzn. $V[letter]==False$"
   ]
  },
  {
   "cell_type": "code",
   "execution_count": 31,
   "metadata": {},
   "outputs": [
    {
     "name": "stdout",
     "output_type": "stream",
     "text": [
      "acdb\n"
     ]
    }
   ],
   "source": [
    "def string_cut(S):\n",
    "    n=len(S)\n",
    "    stack=[]\n",
    "    C=[0 for _ in range(26)]\n",
    "    V=[False for _ in range(26)]\n",
    "    for letter in S:\n",
    "        C[ord(letter)-ord('a')]+=1\n",
    "        \n",
    "    stack.append(S[0])\n",
    "    last=S[0]\n",
    "    for i in range(1,n):\n",
    "        if C[ord(last)-ord('a')]>1 and last>=S[i]:\n",
    "            stack.pop()\n",
    "            C[ord(last)-ord('a')]-=1\n",
    "            V[ord(last)-ord('a')]=False\n",
    "            if stack:\n",
    "                last=stack[-1]\n",
    "        if V[ord(S[i])-ord('a')]==False:\n",
    "            stack.append(S[i])\n",
    "            V[ord(S[i])-ord('a')]=True\n",
    "            last=S[i]\n",
    "            \n",
    "    res=''\n",
    "    for i in range(len(stack)):\n",
    "        res+=stack[i]\n",
    "    \n",
    "    return res\n",
    "S='cbacdbcb'\n",
    "\n",
    "print(string_cut(S))"
   ]
  }
 ],
 "metadata": {
  "kernelspec": {
   "display_name": "Python 3",
   "language": "python",
   "name": "python3"
  },
  "language_info": {
   "codemirror_mode": {
    "name": "ipython",
    "version": 3
   },
   "file_extension": ".py",
   "mimetype": "text/x-python",
   "name": "python",
   "nbconvert_exporter": "python",
   "pygments_lexer": "ipython3",
   "version": "3.11.4"
  },
  "orig_nbformat": 4
 },
 "nbformat": 4,
 "nbformat_minor": 2
}
