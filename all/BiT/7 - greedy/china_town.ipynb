{
 "cells": [
  {
   "attachments": {},
   "cell_type": "markdown",
   "metadata": {},
   "source": [
    "W jednej z chińskich prowincji postanowiono wybudować serię maszyn chroniących ludność przed koronawirusem. Prowincję można zobrazować jako tablicę wartości $1$ i $0$, gdzie $arr[i] = 1$ oznacza, że w mieście $i$ można zbudować maszynę, a wartość $0$, że nie można. Dana jest również liczba $k$, która oznacza, że jeśli postawimy maszynę w mieście $i$, to miasta o indeksach $j$ takich, że $abs(i-j) < k$ są przez nią chronione. Należy zaproponować algorytm, który stwierdzi ile minimalnie maszyn potrzeba aby zapewnić ochronę w każdym mieście, lub $-1$ jeśli jest to niemożliwe.​\n",
    "\n",
    "Rozwiązanie:\n",
    " - zaczynamy ustawiać maszyny od pozycji $k-1$, jeśli się nie da to na bliżej lewej strony, ale jednocześnie tak daleko jak się da od 0\n",
    " - każdą kolejną maszynę staramy się ustawić $2*k-1$ pozycji od poprzedniej ($2*k-1$, bo chcemy ominąć nakładanie się pól rażenia), ale jeśli trzeba (bo może się zdarzyć, że tam nie można), to bliżej.\n",
    " - jeśli możemy objąć prowinjcę do końca, to kończymy algorytm.\n",
    " - jeśli nie jesteśmy w stanie postawić maszyny w kroku $1$ lub $2$ to wniosek jest taki, że nie da się postawić tak maszyn, żeby obejmowały wszystko."
   ]
  },
  {
   "cell_type": "code",
   "execution_count": null,
   "metadata": {},
   "outputs": [],
   "source": []
  }
 ],
 "metadata": {
  "language_info": {
   "name": "python"
  },
  "orig_nbformat": 4
 },
 "nbformat": 4,
 "nbformat_minor": 2
}
