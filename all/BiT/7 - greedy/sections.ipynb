{
 "cells": [
  {
   "attachments": {},
   "cell_type": "markdown",
   "metadata": {},
   "source": [
    "Dany jest zbiór przedziałów otwartych. Zaproponuj algorytm, który znajdzie podzbiór tego zbioru, taki że:​\n",
    " - jego rozmiar wynosi dokładnie $k$​\n",
    " - przedziały są rozłączne​\n",
    " - różnica między najwcześniejszym początkiem, a najdalszym końcem jest minimalna.​\n",
    "\n",
    "Jeśli rozwiązanie nie istnieje, to algorytm powinien to stwierdzić. Algorytm powinien być w miarę możliwości szybki, ale przede wszystkim poprawny.\n",
    "\n",
    "Rozwiązanie:\n",
    " - trochę jak problem z zadaniami\n",
    " - sortujemy po końcach\n",
    " - zaczynamy od każdego przedziału i bierzemy następny przedział, który nie nachodzi na niego.\n",
    " - sprawdzamy ile w tym działaniu można zebrać maksymalnie przedziałów, jeśli $k$, to gites i zapisujemy\n",
    " - porównujemy te rozwiązania względem różnicy"
   ]
  },
  {
   "cell_type": "code",
   "execution_count": null,
   "metadata": {},
   "outputs": [],
   "source": []
  }
 ],
 "metadata": {
  "language_info": {
   "name": "python"
  },
  "orig_nbformat": 4
 },
 "nbformat": 4,
 "nbformat_minor": 2
}
