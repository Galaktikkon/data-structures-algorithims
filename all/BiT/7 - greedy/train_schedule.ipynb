{
 "cells": [
  {
   "attachments": {},
   "cell_type": "markdown",
   "metadata": {},
   "source": [
    "Mamy pewien rozkład pociągów, dany jako tablica $n$ krotek $(\\text{arrival time}, \\text{departure time})$, \n",
    "przy czym są one posortowane niemalejąco według $\\text{arrival time}$. \n",
    "\n",
    "Chcemy wiedzieć, czy nasza stacja mająca $m$ peronów jest w stanie bezkonfliktowo obsłużyć te pociągi, tzn. w żadnym momencie nie będzie “rywalizacji” pociągów o dostępne perony.​\n",
    "\n",
    "Przedstaw algorytm, który poda odpowiedź $\\text{True}$ lub $\\text{False}$ na powyższe pytanie.​\n",
    "\n",
    "Rozwiązanie:\n",
    " - Priority queue z czasami po czasach (zarówno odjazdu jak i przyjazdu), czyli jakby zaczynamy dzień i patrzymy, ile w danym momencie jest na peronie(counter), jeśli przyjeżdża pociąg, to dodajemy do liczniki, gdy odjeżdża, to odejmujemy z licznika (de facto jest to licznik właśnie oblsługiwanych pociągów). Cały czas kontrolujemy tę ilość, jeśli będzie ona kiedykolwiek większa od m, to zwracamy False, a w przeciwnym przypadku True."
   ]
  },
  {
   "cell_type": "code",
   "execution_count": null,
   "metadata": {},
   "outputs": [],
   "source": []
  }
 ],
 "metadata": {
  "language_info": {
   "name": "python"
  },
  "orig_nbformat": 4
 },
 "nbformat": 4,
 "nbformat_minor": 2
}
