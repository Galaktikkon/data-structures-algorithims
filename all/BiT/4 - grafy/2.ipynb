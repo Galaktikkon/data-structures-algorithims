{
 "cells": [
  {
   "attachments": {},
   "cell_type": "markdown",
   "metadata": {},
   "source": [
    "# Wiadomość\n",
    "Otrzymujemy na wejściu listę par ludzi, które się wzajemnie znają. Osoby są reprezentowane przez liczby od 0 do n-1.\n",
    "\n",
    "Dnia pierwszego osoba 0 przekazuje wiadomość wszystkim swoim znajomym. Dnia drugiego każdy ze znajomych \n",
    "przekazuje tę wiadomść wszystkim swoim znajomym, którzy jej jescze nie znali itd.\n",
    "\n",
    "Napisz algorytm, który zwróci dzień, w którym najwięcej osób poznało wiadomość oraz ilość osób, które tego dnia ja otrzymały.\n"
   ]
  },
  {
   "cell_type": "code",
   "execution_count": 2,
   "metadata": {},
   "outputs": [
    {
     "name": "stdout",
     "output_type": "stream",
     "text": [
      "(2, 3, [1, 2, 3, 2, 2, 0, 0, 0, 0, 0])\n",
      "(1, 2, [1, 2, 1, 0])\n",
      "(4, 3, [1, 1, 1, 2, 3, 0, 0, 0])\n"
     ]
    }
   ],
   "source": [
    "from collections import deque\n",
    "\n",
    "def message(G,s):\n",
    "    \n",
    "    mess,day=0,0\n",
    "    Q=deque()\n",
    "    n=len(G)\n",
    "    d=[0 for _ in range(n)]\n",
    "    visited=[False for _ in range(n)]\n",
    "    visited[s]=True\n",
    "    Q.append((s,day))\n",
    "    \n",
    "    \n",
    "    while Q:\n",
    "        u,w=Q.popleft()\n",
    "        d[w]+=1 # tablica, ktora dla danego dnia przechowuje ile zostalo rozeslanych wiadomosci\n",
    "        if d[w]>mess: # jezeli pewnego dnia rozeslano wiecej niz aktualnie jest najwiecej to podmiana wszystkiego\n",
    "            mess=d[w]\n",
    "            day=w\n",
    "        for v in G[u]:\n",
    "            if not visited[v]:\n",
    "                visited[v]=True\n",
    "                Q.append((v,w+1)) \n",
    "                # dorzuca sie do kolejki sasiada rozwazanego wierzcholka, z dniem o 1 wiekszym, \n",
    "                # bo dopiero nastepnego dnia sie go sprawdzi\n",
    "        \n",
    "\n",
    "    return day,mess\n",
    "\n",
    "G=[[1,3],[0,3,5],[3,6,7],[0,1,2,4],[3],[1],[2],[8,9],[7],[7]]\n",
    "H=[[1,3],[0,3],[3],[0,1,2]]\n",
    "I=[[5],[2,3,4,6],[1,4,7],[1,6,7],[1,2],[0,7],[1,2,3],[2,3,5]]\n",
    "\n",
    "print(message(G,0))\n",
    "print(message(H,0))\n",
    "print(message(I,0))"
   ]
  }
 ],
 "metadata": {
  "kernelspec": {
   "display_name": "Python 3",
   "language": "python",
   "name": "python3"
  },
  "language_info": {
   "codemirror_mode": {
    "name": "ipython",
    "version": 3
   },
   "file_extension": ".py",
   "mimetype": "text/x-python",
   "name": "python",
   "nbconvert_exporter": "python",
   "pygments_lexer": "ipython3",
   "version": "3.11.3"
  },
  "orig_nbformat": 4
 },
 "nbformat": 4,
 "nbformat_minor": 2
}
