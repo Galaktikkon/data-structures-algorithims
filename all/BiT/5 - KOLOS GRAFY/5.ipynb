{
 "cells": [
  {
   "attachments": {},
   "cell_type": "markdown",
   "metadata": {},
   "source": [
    "Dostajemy na wejściu trzy stringi: $A$, $B$ i $C$. $A$ i $B$ są tej samej długości. \n",
    "\n",
    "Zachodzą następujące właściwości:\n",
    " - Litery na tym samym indeksie w stringach $A$ i $B$ są równoważne\n",
    " - Jeżeli litera $a$ jest równoważna z literą $b$, to litera $b$ jest równoważna z literą $a$\n",
    " - Jeżeli litera $a$ jest równoważna z b, a litera $b$ z literą $c$, to litera $a$ jest równoważna z literą $c$\n",
    " - Każda litera jest równoważna sama ze sobą\n",
    "\n",
    "W stringu $C$ możemy zamienić dowolną literę z literą do niej równoważną. Jaki jest najmniejszy leksykograficznie string, który możemy w ten sposób skonstruować?\n"
   ]
  },
  {
   "cell_type": "code",
   "execution_count": null,
   "metadata": {},
   "outputs": [],
   "source": []
  }
 ],
 "metadata": {
  "language_info": {
   "name": "python"
  },
  "orig_nbformat": 4
 },
 "nbformat": 4,
 "nbformat_minor": 2
}
