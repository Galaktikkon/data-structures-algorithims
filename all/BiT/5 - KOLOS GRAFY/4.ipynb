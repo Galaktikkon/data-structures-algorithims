{
 "cells": [
  {
   "attachments": {},
   "cell_type": "markdown",
   "metadata": {},
   "source": [
    "Dany jest graf ważony $G$. Ścieżka $superfajna$, to taka, która jest nie tylko najkrótszą wagowo ścieżką między $v$ i  $u$, ale także ma najniejszą liczbę krawędzi (inaczej mówiąc, szukamy najkrótszych ścieżek w sensie liczby krawędzi wśród najkrótszych ścieżek w sensie wagowym). Podaj algorytm, który dla danego wierzchołka startowego $s$ znajdzie superfajne ścieżki do pozostałych wierzchołków."
   ]
  },
  {
   "cell_type": "code",
   "execution_count": null,
   "metadata": {},
   "outputs": [],
   "source": []
  }
 ],
 "metadata": {
  "language_info": {
   "name": "python"
  },
  "orig_nbformat": 4
 },
 "nbformat": 4,
 "nbformat_minor": 2
}
