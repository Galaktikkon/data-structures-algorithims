{
 "cells": [
  {
   "attachments": {},
   "cell_type": "markdown",
   "metadata": {},
   "source": [
    "Dostajemy na wejsciu graf, w którym wierzchołkami są miasta, a krawędziami drogi między nimi. Dla każdego miasta znamy cenę paliwa w złotych na litr, a dla każdej drogi jej długość w kilometrach. \n",
    "\n",
    "Nasz samochód ma zbiornik o pojemności $100$ litrów i pali jeden litr na kilometr. \n",
    "\n",
    "Startujemy z  miasta $A$ z pustym zbiornikiem. Ile minimalnie musimy zapłacić za paliwo, aby dotrzeć do miasta $B$?"
   ]
  },
  {
   "cell_type": "code",
   "execution_count": 2,
   "metadata": {},
   "outputs": [],
   "source": [
    "\n",
    "def get_graph(E):\n",
    "    n=-1\n",
    "    for e in E:\n",
    "        n=max(n,e[1],e[0])\n",
    "    n+=1\n",
    "    G=[[]for _ in range(n)]\n",
    "    \n",
    "    for e in E:\n",
    "        G[e[0]].append((e[1],e[2]))\n",
    "        G[e[1]].append((e[0],e[2]))\n",
    "        \n",
    "    return G\n",
    "\n",
    "E=[(0,9,2),(1,2,3),(2,6,7),(1,4,9),(4,3,2),(3,5,5),(6,5,3),(5,7,1),(5,9,8),(7,11,3),(9,8,4),(11,10,6)]\n",
    "\n",
    "# for i in get_graph(E): print(i)\n",
    "\n",
    "def create_graph(G,l):\n",
    "    n=len(G)\n",
    "    A=[[] for _ in range(l*n)]\n",
    "    \n",
    "    for i in range(n):\n",
    "        for j in range(l-1):\n",
    "            A[i*n+j].append((i*n+j+1,1))\n",
    "            for v,w in G[i]:\n",
    "                if i*n+j-w>=0:\n",
    "                    A[i*n+j].append((i*n+j-w,0))\n",
    "        \n",
    "    \n",
    "def fuel_pay(G):\n",
    "    pass"
   ]
  }
 ],
 "metadata": {
  "kernelspec": {
   "display_name": "Python 3",
   "language": "python",
   "name": "python3"
  },
  "language_info": {
   "codemirror_mode": {
    "name": "ipython",
    "version": 3
   },
   "file_extension": ".py",
   "mimetype": "text/x-python",
   "name": "python",
   "nbconvert_exporter": "python",
   "pygments_lexer": "ipython3",
   "version": "3.11.3"
  },
  "orig_nbformat": 4
 },
 "nbformat": 4,
 "nbformat_minor": 2
}
