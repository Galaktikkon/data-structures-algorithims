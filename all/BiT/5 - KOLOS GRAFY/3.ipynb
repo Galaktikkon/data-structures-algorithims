{
 "cells": [
  {
   "attachments": {},
   "cell_type": "markdown",
   "metadata": {},
   "source": [
    "Dostajemy na wejściu listę trójek postaci: $(miasto_A, miasto_B, koszt)$. Każda z nich oznacza, że możemy zbudować drogę między miastem $A$ i $B$ za podany koszt. Ponadto, w dowolnym mieście możemy zbudować $lotnisko$ za koszt $K$. Na początku w żadnym mieście nie ma lotniska, podobnie między żadnymi dwoma miastami nie ma wybuowanej drogi.\n",
    "\n",
    "Naszym celem jest zbudować lotniska i drogi za minimalny koszt, tak aby każde miasto miało dostęp do lotniska.\n",
    "\n",
    "Miasto ma dostęp do lotniska, jeśli:\n",
    " - jest w nim lotnisko, lub\n",
    " - można z niego dojechać do innego miasta, w którym jest lotnisko\n",
    "\n",
    "Jeżeli istnieje więcej niż jedno rozwiązanie o minimalnym koszcie, należy wybrać to z największą liczbą lotnisk."
   ]
  },
  {
   "cell_type": "code",
   "execution_count": null,
   "metadata": {},
   "outputs": [],
   "source": []
  }
 ],
 "metadata": {
  "language_info": {
   "name": "python"
  },
  "orig_nbformat": 4
 },
 "nbformat": 4,
 "nbformat_minor": 2
}
