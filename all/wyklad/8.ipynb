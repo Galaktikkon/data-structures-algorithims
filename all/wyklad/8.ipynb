{
 "cells": [
  {
   "attachments": {},
   "cell_type": "markdown",
   "metadata": {},
   "source": [
    "Znajdowanie najkrótszych ścieżek w grafach ważonych\n",
    "\n",
    "Reprezentacja grafów ważonych:\n",
    "    </br></br>\n",
    "    $G=(V,E)$ </br>\n",
    "    $w=E \\to N (\\Z ,\\R \\to \\mathbb{Q}) $ </br>\n",
    "1. Reprezentacja macierzowa: </br>\n",
    "$W$ - macierz wag </br>\n",
    "$W[i][j]$ - waga krawędzi między wierzchołkami $v_i$ oraz $v_j$ ($\\infty$ jeżeli nie istnieje) </br>\n",
    "2. Reprezentacja listowa: </br>\n",
    "Tak samo jak zwykła reprezentacja, przy czym na $i$-tej pozycji w liście mamy listę dwuelementową z informacją o skierowaniu na inny wierzchołek, a druga wartość to waga tego połączenia. </br>\n",
    "\n",
    "Problem znajowania najkrótszych ścieżek:\n",
    "- 1:1, problem ścieżki między dwoma wierzchołkami - na elementarnym poziomie trudne do wykorzystania\n",
    "- 1:wszyscy, problem ścieżki z zadanego wierzchołka do wszystkich innych\n",
    "- wszyscy:wszyscy \n",
    "\n",
    "Podejście elementarne/BFS:\n",
    "- długości/wagi krawędzi to małe liczby naturalne\n",
    "- tworzymy sztuczne wierzchołki odpowiednio dzielące krawędzie (dla wagi $n$, wkładamy $n-1$ wierzchołków, aby wydłuzyć odległości)\n",
    "\n",
    "Implementacja: \n",
    "- wrzucamy do kolejki częściowe wierzchołki i aktualizujemy odległości, jeśli wyciągniemy prawdziwy wierzchołek.\n",
    "\n",
    "Algorytm Dijkstry - algorytm elementarny, ale w każdym kroku skacze do najbliższego prawdziwego wierzchołka:\n",
    "- liczby nie muszą być naturalne, ale nie moga być ujemne.\n",
    "\n",
    "1. Notacja: </br>\n",
    "    $G=(V,E)$ </br>\n",
    "    $w(u,v)$ - odległość z $u$ do $v$</br>\n",
    "    $u.d$ - oszacowanie odległości ze źródla do $u$</br>\n",
    "    $u.parent$ - poprzednik na najkrótszej ścieżce ze źródła</br>\n",
    "\n",
    "2. Algorytm: (start $=s\\in V$)\n",
    "    - umieść wszystkie wierzchołki w kolejce priorytetowej z oszacowaniem odległości $u.d=\\infty$ (w praktyce realizowane inaczej)\n",
    "    - zmień odległość $s$ na $0$\n",
    "    - póki wierzchołki są w kolejce:\n",
    "        - wyjmij z kolejki wierzchołek $u$ od minimalnej wartości $u.d$\n",
    "        - dla każdej krawędzi $(u,v)$ wykonaj relaksację (sprawdź warunek trójkąta, czyli czy da się lepiej podejść do wierzchołka) \n",
    "\n",
    "3. Dowód poprawności:\n",
    "    - realizuje BFS z dodanymi wierzchołkami (nieprawdiłowy argument, jeśli wagi nie są naturalne)\n",
    "    - dowód przez indukcję...\n"
   ]
  },
  {
   "cell_type": "code",
   "execution_count": null,
   "metadata": {},
   "outputs": [],
   "source": []
  }
 ],
 "metadata": {
  "language_info": {
   "name": "python"
  },
  "orig_nbformat": 4
 },
 "nbformat": 4,
 "nbformat_minor": 2
}
