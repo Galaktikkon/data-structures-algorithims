{
 "cells": [
  {
   "attachments": {},
   "cell_type": "markdown",
   "metadata": {},
   "source": [
    "Znajdowanie najkrótszych ścieżek w grafach ważonych\n",
    "\n",
    "Reprezentacja grafów ważonych:\n",
    "    </br></br>\n",
    "    $G=(V,E)$ </br>\n",
    "    $w=E \\to N (\\Z ,\\R \\to \\mathbb{Q}) $ </br>\n",
    "1. Reprezentacja macierzowa: </br>\n",
    "$W$ - macierz wag </br>\n",
    "$W[i][j]$ - waga krawędzi między wierzchołkami $v_i$ oraz $v_j$ ($\\infty$ jeżeli nie istnieje) </br>\n",
    "2. Reprezentacja listowa: </br>\n",
    "Tak samo jak zwykła reprezentacja, przy czym na $i$-tej pozycji w liście mamy listę dwuelementową z informacją o skierowaniu na inny wierzchołek, a druga wartość to waga tego połączenia. </br>\n",
    "\n",
    "Problem znajowania najkrótszych ścieżek:\n",
    "- 1:1, problem ścieżki między dwoma wierzchołkami - na elementarnym poziomie trudne do wykorzystania\n",
    "- 1:wszyscy, problem ścieżki z zadanego wierzchołka do wszystkich innych\n",
    "- wszyscy:wszyscy \n",
    "\n",
    "Podejście elementarne/BFS:\n",
    "- długości/wagi krawędzi to małe liczby naturalne\n",
    "- tworzymy sztuczne wierzchołki odpowiednio dzielące krawędzie (dla wagi $n$, wkładamy $n-1$ wierzchołków, aby wydłuzyć odległości)\n",
    "\n",
    "Implementacja: \n",
    "- wrzucamy do kolejki częściowe wierzchołki i aktualizujemy odległości, jeśli wyciągniemy prawdziwy wierzchołek.\n",
    "\n",
    "Algorytm Dijkstry - algorytm elementarny, ale w każdym kroku skacze do najbliższego prawdziwego wierzchołka:\n",
    "- liczby nie muszą być naturalne, ale nie moga być ujemne.\n",
    "\n",
    "1. Notacja:\n",
    "    - $G=(V,E)$\n",
    "    - $w(u,v)$ - odległość z $u$ do $v$\n",
    "    - $u.d$ - oszacowanie odległości ze źródla do $u$\n",
    "    - $u.parent$ - poprzednik na najkrótszej ścieżce ze źródła\n",
    "\n",
    "2. Algorytm: (start $=s\\in V$)\n",
    "    - umieść wszystkie wierzchołki w kolejce priorytetowej z oszacowaniem odległości $u.d=\\infty$ (w praktyce realizowane inaczej)\n",
    "    - zmień odległość $s$ na $0$\n",
    "    - póki wierzchołki są w kolejce:\n",
    "        - wyjmij z kolejki wierzchołek $u$ od minimalnej wartości $u.d$\n",
    "        - dla każdej krawędzi $(u,v)$ wykonaj relaksację (sprawdź warunek trójkąta, czyli czy da się lepiej podejść do wierzchołka) \n",
    "\n",
    "3. Dowód poprawności:\n",
    "    - realizuje BFS z dodanymi wierzchołkami (nieprawdiłowy argument, jeśli wagi nie są naturalne)\n",
    "    - dowód przez indukcję...\n",
    "\n",
    "4. Złożonosć:\n",
    "    - $O(ElogV)$ dla reprezentacji listowej - użycie kolejki priorytetowej\n",
    "    - $O(V^2)$ dla reprezentacji macierzowej - po prostu szukamy dla każdego wierzchołka"
   ]
  },
  {
   "cell_type": "code",
   "execution_count": 1,
   "metadata": {},
   "outputs": [
    {
     "name": "stdout",
     "output_type": "stream",
     "text": [
      "([4, 2, None, None, None], [0, 3, 4, 7, 8])\n"
     ]
    }
   ],
   "source": [
    "def Dijkstra(G,s):\n",
    "    from math import inf\n",
    "    from queue import PriorityQueue\n",
    "    n=len(G)\n",
    "    Q=PriorityQueue()\n",
    "    parent=[None for _ in range(n)]\n",
    "    d=[inf for _ in range(n)]\n",
    "    d[s]=0\n",
    "    Q.put((d[s],s))\n",
    "    \n",
    "    while not Q.empty():\n",
    "        w,u=Q.get()\n",
    "        # print(w,u)\n",
    "        if w==d[u]: # jeżeli jestem na najkrótszej ścieżce\n",
    "            d[u]=w\n",
    "            for v,c in G[u]:\n",
    "                if relax(parent,d,v,u,c):\n",
    "                    Q.put((d[v],v))\n",
    "        # inaczej skipuję starą ścieżkę\n",
    "    return parent, d\n",
    "\n",
    "def relax(parent,d,v,u,c): #strzelanie do ludzi \n",
    "    if d[v]>d[u]+c: # jeżeli da się lepiej podejść do wierzchołak, to to robimy\n",
    "        d[v]=d[u]+c\n",
    "        parent[u]=v\n",
    "        return True\n",
    "    return False\n",
    "\n",
    "G=[[(1,3),(3,7),(4,8)],[(3,4),(2,1)],[],[(2,2)],[(3,3)]]\n",
    "\n",
    "print(Dijkstra(G,0))"
   ]
  },
  {
   "attachments": {},
   "cell_type": "markdown",
   "metadata": {},
   "source": [
    "Algorytm Bellmana-Forda - najkrótsze ścieżki przy dopuszczeniu ujemnych wag (graf skierowany)\n",
    "\n",
    "1. Inicjalizacja:\n",
    "\n",
    "2. Relaksacje:\n",
    "\n",
    "3. Wykrywanie cykli:\n",
    "\n",
    "4. Złożoność:\n",
    "    - $O(VE)$"
   ]
  },
  {
   "cell_type": "code",
   "execution_count": null,
   "metadata": {},
   "outputs": [],
   "source": [
    "def Belford():\n",
    "    pass"
   ]
  },
  {
   "attachments": {},
   "cell_type": "markdown",
   "metadata": {},
   "source": [
    "Najkrótsze ścieżki między każdą parą wierzchołków: </br>\n",
    "    - $|V|$ wywołań Dijkstry - $O(VElogV)$ </br>\n",
    "    - $|V|$ wywołań Bellmana-Forda - $O(V^2E)$ \n",
    "\n",
    "Algorytm Floyda-Warshalla: </br>\n",
    "    - $O(V^3)$"
   ]
  }
 ],
 "metadata": {
  "kernelspec": {
   "display_name": "Python 3",
   "language": "python",
   "name": "python3"
  },
  "language_info": {
   "codemirror_mode": {
    "name": "ipython",
    "version": 3
   },
   "file_extension": ".py",
   "mimetype": "text/x-python",
   "name": "python",
   "nbconvert_exporter": "python",
   "pygments_lexer": "ipython3",
   "version": "3.11.3"
  },
  "orig_nbformat": 4
 },
 "nbformat": 4,
 "nbformat_minor": 2
}
