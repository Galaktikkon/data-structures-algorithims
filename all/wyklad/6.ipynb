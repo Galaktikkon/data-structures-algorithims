{
 "cells": [
  {
   "attachments": {},
   "cell_type": "markdown",
   "metadata": {},
   "source": [
    "# <center>ALGORYTMY GRAFOWE</center>"
   ]
  },
  {
   "attachments": {},
   "cell_type": "markdown",
   "metadata": {},
   "source": [
    "1. Grafy:\n",
    "  - graf skierowany - para: $G = (V,E)$:\n",
    "    - $V = \\{v_1, ..., v_n\\}$ - zbiór wierzchołków\n",
    "    - $E = \\{e_1, ..., e_n\\}$ - podbzbiór $(V \\times V) / (e_i,e_i)$ - czyli (na ogół) bez pętli typu $(e,e)$\n",
    "  - graf nieskierowany jest zdefiniowany analogicznie, ale każda krawędź to zbiór dwuelementowy.\n",
    "    - na ogół reprezentowany jako graf skierowany z krawędziami w obie strony\n",
    "  - często z krawędziami i wierzchołkami wiążemy dodatkowe informacje (np. wagi/długości - grafy ważone)\n"
   ]
  },
  {
   "attachments": {},
   "cell_type": "markdown",
   "metadata": {},
   "source": [
    "2. Reprezentacje grafów:\n",
    "  - przez listę/tablicę krawędzi (najrzadziej używana): \n",
    "    - [4,3] -> [1,2] -> [2,4] -> [4,1] --[\n",
    "  - macierzowa: </br> </br>\n",
    "  $\\begin{matrix} i & 1 & 2 & 3 & 4 \\\\ 1 & - & T & F & F \\\\ 2 & F & - & F & T \\\\ 3 & F & F & - & F \\\\ 4 & T & T & F & - \\end{matrix}$\n",
    "    - na podstawie macierzy: istnieją krawędzie: np. $(4,1)$, $(4,2)$, $(2,4)$, z $def$ wyżej wynika, że przekątna jest pusta.\n",
    "    - testowanie czy istnieje krawędź ma złożoność $O(1)$\n",
    "    - przegląd krawędzi wychodzących z danego wierzchołka ma złożoność $O(n)$ -  dla grafów rzadkich forsuje to $O(n^2)$,\n",
    "ale jest to ok dla grafów gęstych, które mają blisko $O(n^2)$ krawędzi, więc minus złożoności pamięciowej jest pomijalny\n",
    "  - lista sąsiedztwa: </br> </br>\n",
    "  $\\begin{matrix} i=1 & [2] \\\\ i=2 & [4] \\\\ i=3 & [] \\\\ i=4 & [1,3] \\end{matrix}$\n",
    "    - tablica, gdzie pod indeksem i-tego wierzchołka mamy tablicę jego sąsiadów (skierowań na) \n",
    "    - np. wierzchołek 4 ma skierowania na 1 i 3\n",
    "    - sprawdzenie czy dana krawędź istnieje ma potencjalnie złożoność $O(n)$\n",
    "    - przegląd krawędzi wychodzących z danego wierzchołka $v$ ma złożoność $O(d(V))$, gdzie $d(v)$ - stopień wierzchołka,\n",
    "czyli liczba wychodzących krawędzi"
   ]
  },
  {
   "attachments": {},
   "cell_type": "markdown",
   "metadata": {},
   "source": [
    "3. Przejście grafu w szerz - BFS (breadth-first search):\n",
    "    - $O(V+E)$ - reprezentacja listowa \n",
    "    - $O(V^2)$ - reprezentacja macierzowa\n",
    "    - Zastosowania:\n",
    "        - znajduje najkrótsze ścieżki w sensie liczby krawędzi\n",
    "        - inne zastosowania: testowanie spójności grafu, testowanie dwudzielności\n",
    "        - wykrywanie cykli"
   ]
  },
  {
   "cell_type": "code",
   "execution_count": 1,
   "metadata": {},
   "outputs": [
    {
     "name": "stdout",
     "output_type": "stream",
     "text": [
      "[0, 2, 1, 1, 1, 2, 2]\n"
     ]
    }
   ],
   "source": [
    "def BFS(G,s):\n",
    "    from collections import deque\n",
    "    Q=deque()\n",
    "    n=len(G)\n",
    "    d=[-1 for _ in range(n)]\n",
    "    d[s]=0\n",
    "    visited=[False for _ in range(n)]\n",
    "    visited[s]=True\n",
    "    parent=[None for _ in range(n)]\n",
    "    parent[s]=None\n",
    "    Q.append(s)\n",
    "    \n",
    "    while Q:\n",
    "        u=Q.popleft()\n",
    "        for v in G[u]:\n",
    "            if visited[v]==False:\n",
    "                visited[v]=True\n",
    "                d[v]=d[u]+1\n",
    "                parent[v]=u\n",
    "                Q.append(v)\n",
    "                \n",
    "    return d,visited,parent\n",
    "\n",
    "G=[[2,3,4],[2,4,5],[0,1],[4,0,6],[0,1,3,5],[1,4],[3]]\n",
    "\n",
    "print(BFS(G,0)[0])"
   ]
  },
  {
   "attachments": {},
   "cell_type": "markdown",
   "metadata": {},
   "source": [
    "4. Przejście grafu wgłąb - DFS (depth-first search)\n",
    "    - $O(V+E)$ - reprezentacja listowa\n",
    "    - $O(V^2)$ - reprezentacja macierzowa\n",
    "    - Zastosowania:\n",
    "        - testowanie spójności grafu, testowanie dwudzielności\n",
    "        - wykrywanie cykli\n",
    "        - sortowanie topologiczne\n",
    "        - silnie spójne składowe\n",
    "        - wyznaczanie cyklu euelera\n",
    "        - mosty i punkty artykulacji"
   ]
  },
  {
   "cell_type": "code",
   "execution_count": null,
   "metadata": {},
   "outputs": [],
   "source": [
    "def DFS(G,s):\n",
    "    \n",
    "    def DFSVisit(G,i):\n",
    "        nonlocal time, visited, parent\n",
    "        time+=1 # czas odwiedzenia wierzchołka i\n",
    "        visited[i]=True\n",
    "        for v in G[i]:\n",
    "            if not visited[v]:\n",
    "                parent[v]=i\n",
    "                DFSVisit(G,v)\n",
    "        time+=1 # czas przetworzenia i-tego wierzchołka\n",
    "        \n",
    "\n",
    "    n=len(G)\n",
    "    visited=[False for _ in range(n)]\n",
    "    parent=[None for _ in range(n)]\n",
    "    parent[s]=None\n",
    "    \n",
    "    time=0\n",
    "    \n",
    "    for i in range(n): #przeszukanie całego grafu, jeśli zechemy z jednego wierzchołka odpalić DFS to tylko z nirgo odpalamy!\n",
    "       if not visited[i]:\n",
    "           DFSVisit(G,i)\n",
    "           \n",
    "           \n",
    "    return visited,parent"
   ]
  },
  {
   "attachments": {},
   "cell_type": "markdown",
   "metadata": {},
   "source": [
    "5. Sortowanie topologiczne\n",
    "\n",
    "DAG - directed acyclic graph (skierowany graf acykliczy) - tylko dla takiego typu grafów\n",
    "\n",
    "Sortowanie topologiczne dagu: ułożenie jego wierzchołków w takiej kolejności, że krawędzie wskazują wyłącznie z lewej na prawą:\n",
    " - linearyzacja częściowego porządku: wyznaczenie kolejności realizacji zadań, w przypadku, w którym niektóre mają wyższy priorytet,\n",
    "czyli muszą być wykonane przed innymi, np. ubranie się (skarpetki zakładamy przed butami (xd))\n",
    "\n",
    "Algorytm:\n",
    "- uruchomić DFS i po \"przetworzeniu\" każdego wierzchołka dopisać go na początek tworzonej listy"
   ]
  },
  {
   "cell_type": "code",
   "execution_count": 4,
   "metadata": {},
   "outputs": [
    {
     "name": "stdout",
     "output_type": "stream",
     "text": [
      "[2, 3, 6, 4, 1, 0, 5]\n"
     ]
    }
   ],
   "source": [
    "def topoSort(G):\n",
    "    \n",
    "    def DFSVisit(G,i):\n",
    "        nonlocal visited, topoList\n",
    "        visited[i]=True\n",
    "        for v in G[i]:\n",
    "            if not visited[v]:\n",
    "                DFSVisit(G,v)\n",
    "        topoList.append(i)\n",
    "        \n",
    "    n=len(G)\n",
    "    topoList=[]\n",
    "    visited=[False for _ in range(n)]\n",
    "\n",
    "    for i in range(n):\n",
    "       if not visited[i]:\n",
    "           DFSVisit(G,i)\n",
    "        \n",
    "    return topoList\n",
    "\n",
    "Tasks=[[1,2],[2,4],[],[],[3,6],[4],[]]\n",
    "\n",
    "print(topoSort(Tasks))"
   ]
  }
 ],
 "metadata": {
  "kernelspec": {
   "display_name": "Python 3",
   "language": "python",
   "name": "python3"
  },
  "language_info": {
   "codemirror_mode": {
    "name": "ipython",
    "version": 3
   },
   "file_extension": ".py",
   "mimetype": "text/x-python",
   "name": "python",
   "nbconvert_exporter": "python",
   "pygments_lexer": "ipython3",
   "version": "3.11.3"
  },
  "orig_nbformat": 4
 },
 "nbformat": 4,
 "nbformat_minor": 2
}
