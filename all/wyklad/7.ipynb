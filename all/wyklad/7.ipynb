{
 "cells": [
  {
   "attachments": {},
   "cell_type": "markdown",
   "metadata": {},
   "source": [
    "Cykl Eulera\n",
    "</br>\n",
    "$def.$ Cykl Eulera w grafie $G$, to taki cykl, który przez każdą krawędź $G$ przechodzi dokładnie raz.\n",
    "</br>\n",
    "$tw.$ Graf nieskierowany i spójny posiada cykl Eulera $\\iff$ każdy wierzchołek ma parzysty stopień.\n",
    "\n",
    "<ul>Propozycja algorytmu:\n",
    "    <li>wykonujemy DFS, ale po drodzie 'usuwamy' krawędzie, po których przeszliśmy</li>\n",
    "    <li>do danego wierzchołka możemy wejść dowolną liczbę razy</li>\n",
    "    <li>po przetworzeniu wierzchołka dopisujemy go na początku tworzonego cyklu</li>\n",
    "</ul>\n",
    "\n",
    "Złożoność $O(V+E)$ lub $O(V^2)$\n",
    "</br>-> łatwo wpaść w $O(V^2 + VE)$ lub $O(V^3)$, aby tego uniknąć należy mieć \"wskaźnik\" do ostatniego wybranego sąsiada, w innym wypadku, każdy wybór sąsiada ma złożoność $O(n)$"
   ]
  },
  {
   "cell_type": "code",
   "execution_count": 1,
   "metadata": {},
   "outputs": [
    {
     "name": "stdout",
     "output_type": "stream",
     "text": [
      "[0, 2, 4, 3, 2, 1, 0]\n"
     ]
    }
   ],
   "source": [
    "def EulerCircuit(G,s):\n",
    "    n=len(G)\n",
    "    lastEdge=[[False for _ in range(n)] for _ in range(n)]\n",
    "    Euler=[]\n",
    "    def DFSVisit(G,v):\n",
    "        nonlocal lastEdge, Euler\n",
    "        for u in G[v]:\n",
    "            if not lastEdge[v][u]:\n",
    "                lastEdge[v][u],lastEdge[u][v]=True,True\n",
    "                DFSVisit(G,u)\n",
    "        Euler.append(v)\n",
    "    DFSVisit(G,s)\n",
    "    return Euler\n",
    "\n",
    "G=[[1,2],[0,2],[0,1,3,4],[2,4],[2,3]]\n",
    "\n",
    "print(EulerCircuit(G,0))\n",
    "# Działa, ale z macierzą pomocniczą? sus"
   ]
  },
  {
   "attachments": {},
   "cell_type": "markdown",
   "metadata": {},
   "source": [
    "Cykl Hamiltona\n",
    "</br>\n",
    "$def.$ Cykl Hamiltona, to cykl prosty (niepowtarzający wierzchołków), który odwiedza każdy wierzchołek dokładnie raz.\n",
    "\n",
    "Propozycja Algorytmu: Brute-force - sprawdza $O(V!)$ możliwości.\n",
    "</br>\n",
    "Nie da się wiele lepiej, bo rozpoznawanie czy graf ma cykl Hamiltona jest problemem NP-zupełnym\n",
    "\n",
    "Silnie Spójne składowe w grafie skierowanym\n",
    "</br>\n",
    "$def.$ Niech $G=(V,E)$ będzie pewnym grafiem skierowanym. </br>\n",
    "Mówimy, że $u,v \\in V $ należą do tej samej silnie spójniej składowej jeśli istnieje ścieżka z $u$ do $v$ i $v$ do $u$\n",
    "</br>\n",
    "\n",
    "Graf składający się z silnych spójnych składowych jest DAGiem, inaczej, byłby po prostu jedną spójną składową \n",
    "\n",
    "Propozycja algorytmu:\n",
    " - wykonujemy DFS na $G$, zapisując czasy przetworzenia   \n",
    " - odwracamy kierunek wszystkich krawędzi \n",
    " - wykonujemy DFS, wybierając startowe wierzchołki w kolejności malejących względem czasu przetworzenia   \n",
    "\n",
    "Znajdowanie mostów w grafach nieskierowanych\n",
    "\n",
    "$def.$ Most, to krawędź $e$ w grafie nieskierowanym $G$, jeśli usunięcie jej rozspójnia graf</br>\n",
    "$tw.$ Krawędź $e$ jest mostem $\\iff$ nie leży na żadnym cyklu prostym w grafie</br>\n",
    "$dow.:$</br>$e$ jest mostem $\\Rightarrow$ nie leży na cyklu</br> $e$ nie leży na żadnym cyklu $\\Rightarrow$ jest mostem</br>\n",
    "\n",
    "Algorytm:\n",
    " - wykonujemy DFS, dla  każdego $v$ zapisz jego czas odwiedzenia $d(v)$   \n",
    " - dla każdego $v$ oblicz $low(v) = min(d(v), d(u), min(low(w)))$ min z $v$ jest krawędź wsteczna do $u$, $w$ to dziecko $v$ w drzewie DFS\n",
    " - Mosty to krawędzie ${v,p(v)}$, takie gdzie czas d(v) = low(v)  S\n",
    "\n"
   ]
  }
 ],
 "metadata": {
  "kernelspec": {
   "display_name": "Python 3",
   "language": "python",
   "name": "python3"
  },
  "language_info": {
   "codemirror_mode": {
    "name": "ipython",
    "version": 3
   },
   "file_extension": ".py",
   "mimetype": "text/x-python",
   "name": "python",
   "nbconvert_exporter": "python",
   "pygments_lexer": "ipython3",
   "version": "3.11.3"
  },
  "orig_nbformat": 4
 },
 "nbformat": 4,
 "nbformat_minor": 2
}
