{
 "cells": [
  {
   "attachments": {},
   "cell_type": "markdown",
   "metadata": {},
   "source": [
    "1. Problem plecakowy (Knapsack problem)\n",
    "\n",
    "Mamy zbiór przedmiotów $I=\\{0, ...,n-1\\}$\n",
    " - Każdy z nich ma wagę $w: I \\rightarrow \\N$ - wagi\n",
    " - oraz cenę $p: I \\rightarrow \\N$ - cena\n",
    " - $B \\in \\N$ - maksymalna waga\n",
    "\n",
    "Należy znaleźć podzbiór przedmiotów, których łączna waga nie przekracza $B$ i których łączna cena jest maksymalna\n",
    "\n",
    "$1)$ Funkcja do obliczania\n",
    " - $f(i,b)=$ maksymalna suma cen przedmiotów, ze zbioru: $\\{0, ...,i\\}$, których łączna waga nie przekracza $b$\n",
    "\n",
    "$2)$ Sformułowanie rekurencyjne\n",
    " - $f(i,b)=max{\\begin{cases} f(i-1,b) - \\text{nie bierzemy i-tego przedmiotu}, & \\\\ f(i-1,b-w(i)) + p(i) -\\text{bierzemy i-ty przedmiot} \\end{cases}}$\n",
    " - przy założeniu, że $b-w(i) \\geq 0$, inaczej zerujemy drugą część funkcji\n",
    " - $f(0,b)=\\begin{cases} p(0) , w(0) \\leq b , & \\\\ 0, w(0) > b \\end{cases}$\n",
    "  \n",
    "$3)$ Implementacja\n",
    "\n"
   ]
  },
  {
   "cell_type": "code",
   "execution_count": null,
   "metadata": {},
   "outputs": [],
   "source": [
    "def knapsack(W,P,B):\n",
    "    n=len(W)\n",
    "    F=[[0 for _ in range(B+1)] for _ in range(n)]\n",
    "    P=[]\n",
    "    for b in range(W[0],B+1):\n",
    "        F[0][b]=P[0]\n",
    "    for b in range(B+1):\n",
    "        for i in range(1,n):\n",
    "            F[i][b]=F[i-1][b]\n",
    "            if b-W[i]>=0:\n",
    "                F[i][b]=max(F[i][b],F[i-1][b-W[i]])\n",
    "    \n",
    "    return F[n-1][B]"
   ]
  }
 ],
 "metadata": {
  "language_info": {
   "name": "python"
  },
  "orig_nbformat": 4
 },
 "nbformat": 4,
 "nbformat_minor": 2
}
